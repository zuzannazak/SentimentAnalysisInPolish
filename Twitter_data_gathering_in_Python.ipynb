{
  "nbformat": 4,
  "nbformat_minor": 0,
  "metadata": {
    "colab": {
      "name": "Twitter data gathering in Python",
      "provenance": [],
      "mount_file_id": "1P0mf1jhhYLqlDVN2eqC2HjbWeEg-6dmJ",
      "authorship_tag": "ABX9TyNwPhaILjzEtn0A0KS+xIU4",
      "include_colab_link": true
    },
    "kernelspec": {
      "name": "python3",
      "display_name": "Python 3"
    },
    "language_info": {
      "name": "python"
    }
  },
  "cells": [
    {
      "cell_type": "markdown",
      "metadata": {
        "id": "view-in-github",
        "colab_type": "text"
      },
      "source": [
        "<a href=\"https://colab.research.google.com/github/zuzannazak/SentimentAnalysisInPolish/blob/main/Twitter_data_gathering_in_Python.ipynb\" target=\"_parent\"><img src=\"https://colab.research.google.com/assets/colab-badge.svg\" alt=\"Open In Colab\"/></a>"
      ]
    },
    {
      "cell_type": "markdown",
      "metadata": {
        "id": "Dn_RBnaDy_FJ"
      },
      "source": [
        "https://towardsdatascience.com/step-by-step-twitter-sentiment-analysis-in-python-d6f650ade58d\n",
        "\n",
        "https://towardsdatascience.com/an-extensive-guide-to-collecting-tweets-from-twitter-api-v2-for-academic-research-using-python-3-518fcb71df2a"
      ]
    },
    {
      "cell_type": "code",
      "metadata": {
        "id": "HfK9cXgWy9cS"
      },
      "source": [
        "# For sending GET requests from the API\n",
        "import requests\n",
        "# For saving access tokens and for file management when creating and adding to the dataset\n",
        "import os\n",
        "# For dealing with json responses we receive from the API\n",
        "import json\n",
        "# For displaying the data after\n",
        "import pandas as pd\n",
        "# For saving the response data in CSV format\n",
        "import csv\n",
        "# For parsing the dates received from twitter in readable formats\n",
        "import datetime\n",
        "import dateutil.parser\n",
        "import unicodedata\n",
        "#To add wait time between requests\n",
        "import time\n",
        "import json\n",
        "\n",
        "\n",
        "bearer_token = 'AAAAAAAAAAAAAAAAAAAAAMvAWgEAAAAAueVr19KzIqRLbrV9yaawEI5KyY8%3DIYW6q4T7KzOuBHB3UzuO0E7xzEtDy6dTKgu8fmLHeumKAQkyYe'\n",
        "\n",
        "\n",
        "#Twitter IDs of accounts I'm interested in\n",
        "accountids = {\n",
        "  \"PaczkomatyPL\": 2565558937,\n",
        "  \"Allegro_Group\": 218811885,\n",
        "  \"prezydentpl\": 43932737,\n",
        "  \"AliorBankSA\": 3162732040,\n",
        "  \"AndrzejDuda\": 202086424,\n",
        "  \"WBC241\": 1076216673173204992,\n",
        "  \"CDPROJEKTRED\": 1171755060,\n",
        "  \"ING__Polska\": 1283944856,\n",
        "  \"PKN_ORLEN\": 1960449908,\n",
        "  \"TauronPE\": 760422928190144512,\n",
        "  \"Vivid_Games\": 32384374\n",
        "}\n",
        "\n",
        "max_results = 500\n",
        "start_time = '2022-01-06T10:13:37.046Z', #YYYY-MM-DDTHH:mm:ssZ https://www.timestamp-converter.com/\n",
        "end_time = '2022-01-12T07:05:13.009Z', #YYYY-MM-DDTHH:mm:ssZ"
      ],
      "execution_count": null,
      "outputs": []
    },
    {
      "cell_type": "code",
      "source": [
        "    for key in accountids:\n",
        "      print(key)"
      ],
      "metadata": {
        "colab": {
          "base_uri": "https://localhost:8080/"
        },
        "id": "ASVeCIj5mfoL",
        "outputId": "85ae3ecf-14d2-439e-ee4d-7ba59cff73f7"
      },
      "execution_count": null,
      "outputs": [
        {
          "output_type": "stream",
          "name": "stdout",
          "text": [
            "PaczkomatyPL\n",
            "Allegro_Group\n",
            "prezydentpl\n",
            "AliorBankSA\n",
            "AndrzejDuda\n",
            "WBC241\n",
            "CDPROJEKTRED\n",
            "ING__Polska\n",
            "PKN_ORLEN\n",
            "TauronPE\n",
            "Vivid_Games\n"
          ]
        }
      ]
    },
    {
      "cell_type": "markdown",
      "source": [
        "##Search"
      ],
      "metadata": {
        "id": "jc100GP7wBS7"
      }
    },
    {
      "cell_type": "code",
      "metadata": {
        "id": "4kCv39UivI70"
      },
      "source": [
        "#https://developer.twitter.com/en/docs/twitter-api/tweets/search/api-reference/get-tweets-search-all"
      ],
      "execution_count": null,
      "outputs": []
    },
    {
      "cell_type": "code",
      "source": [
        "import requests\n",
        "import os\n",
        "import json\n",
        "\n",
        "# To set your environment variables in your terminal run the following line:\n",
        "# export 'BEARER_TOKEN'='<your_bearer_token>'\n",
        "\n",
        "search_url = \"https://api.twitter.com/2/tweets/search/all\"\n",
        "#keyword = 'AndrzejDuda'\n",
        "\n",
        "# Optional params: start_time,end_time,since_id,until_id,max_results,next_token,\n",
        "# expansions,tweet.fields,media.fields,poll.fields,place.fields,user.fields\n",
        "def get_params(keyword, start_time, end_time, max_results):\n",
        "  query_params = {'query': keyword,\n",
        "                      'start_time': start_time,\n",
        "                      'end_time': end_time,\n",
        "                      'max_results': max_results,\n",
        "                    # 'expansions': 'author_id,in_reply_to_user_id,geo.place_id',\n",
        "                      'tweet.fields': 'id,text,author_id,in_reply_to_user_id,geo,conversation_id,created_at,lang,public_metrics,referenced_tweets,reply_settings,source',\n",
        "                      'user.fields': 'id,name,username,created_at,description,public_metrics,verified',\n",
        "                    # 'place.fields': 'full_name,id,country,country_code,geo,name,place_type',\n",
        "                      'next_token': {}}\n",
        "  return query_params\n",
        "\n",
        "\n",
        "def bearer_oauth(r):\n",
        "    \"\"\"\n",
        "    Method required by bearer token authentication.\n",
        "    \"\"\"\n",
        "\n",
        "    r.headers[\"Authorization\"] = f\"Bearer {bearer_token}\"\n",
        "    r.headers[\"User-Agent\"] = \"v2FullArchiveSearchPython\"\n",
        "    return r\n",
        "\n",
        "\n",
        "def connect_to_endpoint(url, params):\n",
        "    response = requests.request(\"GET\", search_url, auth=bearer_oauth, params=params)\n",
        "    print(response.status_code)\n",
        "    if response.status_code != 200:\n",
        "        raise Exception(response.status_code, response.text)\n",
        "    return response.json()\n",
        "\n",
        "\n",
        "\n",
        "def main():\n",
        "    for key in accountids:\n",
        "      accountids[key]\n",
        "      url = search_url\n",
        "      params = get_params(key, start_time, end_time, max_results)\n",
        "      json_response = connect_to_endpoint(url, params)\n",
        "      with open('dataMention.json', 'w', encoding='utf-8') as f:\n",
        "        json.dump(json_response, f, ensure_ascii=False, indent=4)\n",
        "      data = json.load(open('/content/dataMention.json'))\n",
        "      if data[\"meta\"][\"result_count\"] != 0:\n",
        "        df = pd.DataFrame(data[\"data\"])\n",
        "        df.to_csv('SearchTweet{name}{enddate}.csv'.format(name=key, enddate=end_time), encoding='utf-8')\n",
        "      else:\n",
        "        print('{name} does not have related Tweets'.format(name=key))\n",
        "      \n",
        "      time.sleep(300)\n",
        "\n",
        "\n",
        "if __name__ == \"__main__\":\n",
        "    main()"
      ],
      "metadata": {
        "colab": {
          "base_uri": "https://localhost:8080/"
        },
        "id": "QhTw_07h092i",
        "outputId": "43961010-2803-419f-db7f-1d9fb1a8de9c"
      },
      "execution_count": null,
      "outputs": [
        {
          "output_type": "stream",
          "name": "stdout",
          "text": [
            "200\n",
            "200\n",
            "200\n",
            "200\n",
            "200\n",
            "200\n",
            "200\n",
            "200\n",
            "200\n",
            "200\n",
            "200\n"
          ]
        }
      ]
    },
    {
      "cell_type": "code",
      "source": [
        ""
      ],
      "metadata": {
        "id": "r1xSfUvxlDuP"
      },
      "execution_count": null,
      "outputs": []
    }
  ]
}